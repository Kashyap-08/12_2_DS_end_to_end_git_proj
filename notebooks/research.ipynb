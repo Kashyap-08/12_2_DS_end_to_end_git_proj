{
 "cells": [
  {
   "cell_type": "code",
   "execution_count": 8,
   "metadata": {},
   "outputs": [],
   "source": [
    "import logging\n",
    "import os\n",
    "from datetime import datetime\n",
    "import pandas as pd"
   ]
  },
  {
   "cell_type": "code",
   "execution_count": 2,
   "metadata": {},
   "outputs": [
    {
     "data": {
      "text/plain": [
       "'2023_10_30_19_02_03.log'"
      ]
     },
     "execution_count": 2,
     "metadata": {},
     "output_type": "execute_result"
    }
   ],
   "source": [
    "LOG_FILE= f\"{datetime.now().strftime('%Y_%m_%d_%H_%M_%S')}.log\"\n",
    "\n",
    "LOG_FILE"
   ]
  },
  {
   "cell_type": "code",
   "execution_count": 4,
   "metadata": {},
   "outputs": [
    {
     "data": {
      "text/plain": [
       "'d:\\\\Learning\\\\INeuron\\\\Live\\\\12_2_DS_end_to_end_git_proj\\\\notebooks'"
      ]
     },
     "execution_count": 4,
     "metadata": {},
     "output_type": "execute_result"
    }
   ],
   "source": [
    "os.getcwd()"
   ]
  },
  {
   "cell_type": "code",
   "execution_count": 3,
   "metadata": {},
   "outputs": [
    {
     "data": {
      "text/plain": [
       "'d:\\\\Learning\\\\INeuron\\\\Live\\\\12_2_DS_end_to_end_git_proj\\\\notebooks\\\\logs'"
      ]
     },
     "execution_count": 3,
     "metadata": {},
     "output_type": "execute_result"
    }
   ],
   "source": [
    "log_path = os.path.join(os.getcwd(), \"logs\")\n",
    "log_path"
   ]
  },
  {
   "cell_type": "code",
   "execution_count": 6,
   "metadata": {},
   "outputs": [],
   "source": [
    "from src.DimondPricePrediction.logger import logging\n",
    "\n",
    "# logg some info\n",
    "logging.info(\"Testing out my new logging code\")"
   ]
  },
  {
   "cell_type": "code",
   "execution_count": 15,
   "metadata": {},
   "outputs": [],
   "source": [
    "# train_df = pd.read_csv(\"artifact/train.csv\")\n",
    "path = \"D:/Learning/INeuron/Live/12_2_DS_end_to_end_git_proj/artifact/train.csv\"\n",
    "train_df = pd.read_csv(path)\n",
    "# , test_path: artifact\\test.csv"
   ]
  },
  {
   "cell_type": "code",
   "execution_count": 17,
   "metadata": {},
   "outputs": [
    {
     "data": {
      "text/plain": [
       "'       id  carat      cut color clarity  depth  table     x     y     z  price\\n0   31904   0.33    Ideal     H     SI1   62.0   55.0  4.42  4.44  2.75    475\\n1  179886   1.53    Ideal     G    VVS2   62.6   56.0  7.34  7.31  4.58  17347\\n2  189663   0.32    Ideal     H      IF   62.5   54.0  4.39  4.41  2.75    815\\n3  155165   1.22  Premium     G     VS1   61.3   58.0  6.88  6.84  4.21   8924\\n4   32858   0.30    Ideal     G    VVS1   62.1   57.0  4.25  4.27  2.64    789'"
      ]
     },
     "execution_count": 17,
     "metadata": {},
     "output_type": "execute_result"
    }
   ],
   "source": [
    "train_df.head().to_string()"
   ]
  },
  {
   "cell_type": "code",
   "execution_count": 18,
   "metadata": {},
   "outputs": [],
   "source": [
    "logging.info(f\"Train DatFrame head :\\n{train_df.head().to_string()}\")"
   ]
  },
  {
   "cell_type": "code",
   "execution_count": 24,
   "metadata": {},
   "outputs": [],
   "source": [
    "# train_df = pd.read_csv(\"artifact/train.csv\")\n",
    "path = \"D:/Learning/INeuron/Live/12_2_DS_end_to_end_git_proj/artifact/test.csv\"\n",
    "test_df = pd.read_csv(path)\n",
    "# , test_path: artifact\\test.csv"
   ]
  },
  {
   "cell_type": "code",
   "execution_count": 20,
   "metadata": {},
   "outputs": [],
   "source": [
    "logging.info(f\"Test DataFrame head :\\n{test_df.head().to_string()}\")"
   ]
  },
  {
   "cell_type": "code",
   "execution_count": 13,
   "metadata": {},
   "outputs": [
    {
     "name": "stdout",
     "output_type": "stream",
     "text": [
      "None\n"
     ]
    }
   ],
   "source": [
    "from src.DimondPricePrediction.pipelines.prediction_pipeline import CustomData\n",
    "\n",
    "custom_data = CustomData(1.52,'Premium','F','VS2',62.2,58.0,7.27,7.33,4.55)\n",
    "\n",
    "df = custom_data.get_data_as_dataframe()\n",
    "\n",
    "print(df)"
   ]
  },
  {
   "cell_type": "code",
   "execution_count": 10,
   "metadata": {},
   "outputs": [
    {
     "name": "stdout",
     "output_type": "stream",
     "text": [
      "{'carat': [1.52], 'cut': ['Premium'], 'color': ['F'], 'clarity': ['VS2'], 'depth': [62.2], 'table': [58.0], 'x': [7.27], 'y': [7.33], 'z': [4.55]}\n"
     ]
    }
   ],
   "source": [
    "dict = {'carat': [1.52], 'cut': ['Premium'], 'color': ['F'], 'clarity': ['VS2'], 'depth': [62.2], 'table': [58.0], 'x': [7.27], 'y': [7.33], 'z': [4.55]}\n",
    "print(dict)"
   ]
  },
  {
   "cell_type": "code",
   "execution_count": 11,
   "metadata": {},
   "outputs": [
    {
     "data": {
      "text/html": [
       "<div>\n",
       "<style scoped>\n",
       "    .dataframe tbody tr th:only-of-type {\n",
       "        vertical-align: middle;\n",
       "    }\n",
       "\n",
       "    .dataframe tbody tr th {\n",
       "        vertical-align: top;\n",
       "    }\n",
       "\n",
       "    .dataframe thead th {\n",
       "        text-align: right;\n",
       "    }\n",
       "</style>\n",
       "<table border=\"1\" class=\"dataframe\">\n",
       "  <thead>\n",
       "    <tr style=\"text-align: right;\">\n",
       "      <th></th>\n",
       "      <th>carat</th>\n",
       "      <th>cut</th>\n",
       "      <th>color</th>\n",
       "      <th>clarity</th>\n",
       "      <th>depth</th>\n",
       "      <th>table</th>\n",
       "      <th>x</th>\n",
       "      <th>y</th>\n",
       "      <th>z</th>\n",
       "    </tr>\n",
       "  </thead>\n",
       "  <tbody>\n",
       "    <tr>\n",
       "      <th>0</th>\n",
       "      <td>1.52</td>\n",
       "      <td>Premium</td>\n",
       "      <td>F</td>\n",
       "      <td>VS2</td>\n",
       "      <td>62.2</td>\n",
       "      <td>58.0</td>\n",
       "      <td>7.27</td>\n",
       "      <td>7.33</td>\n",
       "      <td>4.55</td>\n",
       "    </tr>\n",
       "  </tbody>\n",
       "</table>\n",
       "</div>"
      ],
      "text/plain": [
       "   carat      cut color clarity  depth  table     x     y     z\n",
       "0   1.52  Premium     F     VS2   62.2   58.0  7.27  7.33  4.55"
      ]
     },
     "execution_count": 11,
     "metadata": {},
     "output_type": "execute_result"
    }
   ],
   "source": [
    "import pandas as pd\n",
    "pd.DataFrame(dict)"
   ]
  },
  {
   "cell_type": "code",
   "execution_count": 14,
   "metadata": {},
   "outputs": [
    {
     "name": "stdout",
     "output_type": "stream",
     "text": [
      "None\n"
     ]
    }
   ],
   "source": [
    "from src.DimondPricePrediction.pipelines.prediction_pipeline import CustomData\n",
    "\n",
    "custom_data = CustomData(1.52,'Premium','F','VS2',62.2,58.0,7.27,7.33,4.55)\n",
    "\n",
    "df = custom_data.get_data_as_dataframe()\n",
    "\n",
    "print(df)"
   ]
  },
  {
   "cell_type": "code",
   "execution_count": 15,
   "metadata": {},
   "outputs": [
    {
     "name": "stdout",
     "output_type": "stream",
     "text": [
      "None\n"
     ]
    }
   ],
   "source": [
    "from src.DimondPricePrediction.pipelines.prediction_pipeline import CustomData\n",
    "from src.DimondPricePrediction.logger import logging\n",
    "from src.DimondPricePrediction.exception import customException\n",
    "import pandas as pd\n",
    "import sys\n",
    "\n",
    "logging.info(\"Create object to create custom DataFrame\")\n",
    "\n",
    "custom_data = CustomData(1.52,'Premium','F','VS2',62.2,58.0,7.27,7.33,4.55)\n",
    "\n",
    "df = custom_data.get_data_as_dataframe()\n",
    "print(df)"
   ]
  },
  {
   "cell_type": "code",
   "execution_count": null,
   "metadata": {},
   "outputs": [],
   "source": []
  }
 ],
 "metadata": {
  "kernelspec": {
   "display_name": "Python 3",
   "language": "python",
   "name": "python3"
  },
  "language_info": {
   "codemirror_mode": {
    "name": "ipython",
    "version": 3
   },
   "file_extension": ".py",
   "mimetype": "text/x-python",
   "name": "python",
   "nbconvert_exporter": "python",
   "pygments_lexer": "ipython3",
   "version": "3.9.0"
  }
 },
 "nbformat": 4,
 "nbformat_minor": 2
}
